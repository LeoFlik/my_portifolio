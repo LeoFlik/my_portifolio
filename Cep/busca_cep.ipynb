{
 "cells": [
  {
   "cell_type": "code",
   "execution_count": 5,
   "metadata": {},
   "outputs": [],
   "source": [
    "\n",
    "from selenium import webdriver\n",
    "from selenium.webdriver.common.by import By\n",
    "from selenium.webdriver.common.keys import Keys\n",
    "\n",
    "import pyautogui as pg"
   ]
  },
  {
   "cell_type": "code",
   "execution_count": 8,
   "metadata": {},
   "outputs": [
    {
     "ename": "NoSuchElementException",
     "evalue": "Message: no such element: Unable to locate element: {\"method\":\"xpath\",\"selector\":\"//*[@id=\"resultado-DNEC\"]/tbody/tr/td[1]\"}\n  (Session info: MicrosoftEdge=120.0.2210.133); For documentation on this error, please visit: https://www.selenium.dev/documentation/webdriver/troubleshooting/errors#no-such-element-exception\nStacktrace:\n\tGetHandleVerifier [0x00007FF630C50332+58194]\n\tMicrosoft::Applications::Events::ILogConfiguration::operator* [0x00007FF630BDEC92+216482]\n\t(No symbol) [0x00007FF6309F9E1B]\n\t(No symbol) [0x00007FF630A49C6F]\n\t(No symbol) [0x00007FF630A49DA5]\n\t(No symbol) [0x00007FF630A3D43C]\n\t(No symbol) [0x00007FF630A6C11F]\n\t(No symbol) [0x00007FF630A3D3E1]\n\t(No symbol) [0x00007FF630A3D28D]\n\t(No symbol) [0x00007FF630A6C670]\n\t(No symbol) [0x00007FF630A3D3E1]\n\t(No symbol) [0x00007FF630A88A7E]\n\t(No symbol) [0x00007FF630A6BD43]\n\t(No symbol) [0x00007FF630A3C162]\n\t(No symbol) [0x00007FF630A3B5BD]\n\t(No symbol) [0x00007FF630A3C994]\n\tMicrosoft::Applications::Events::EventProperty::to_string [0x00007FF630E06CDA+1051354]\n\t(No symbol) [0x00007FF630ABF596]\n\tMicrosoft::Applications::Events::EventProperty::clear [0x00007FF630B56215+34245]\n\tMicrosoft::Applications::Events::EventProperty::clear [0x00007FF630B4E6BD+2669]\n\tMicrosoft::Applications::Events::EventProperty::to_string [0x00007FF630E059D3+1046483]\n\tMicrosoft::Applications::Events::ILogConfiguration::operator* [0x00007FF630BE8978+256648]\n\tMicrosoft::Applications::Events::ILogConfiguration::operator* [0x00007FF630BE4104+238100]\n\tMicrosoft::Applications::Events::ILogConfiguration::operator* [0x00007FF630BE4232+238402]\n\tMicrosoft::Applications::Events::ILogConfiguration::operator* [0x00007FF630BD8FD1+192737]\n\tBaseThreadInitThunk [0x00007FFCBCD7257D+29]\n\tRtlUserThreadStart [0x00007FFCBDC4AA58+40]\n",
     "output_type": "error",
     "traceback": [
      "\u001b[1;31m---------------------------------------------------------------------------\u001b[0m",
      "\u001b[1;31mNoSuchElementException\u001b[0m                    Traceback (most recent call last)",
      "Cell \u001b[1;32mIn[8], line 16\u001b[0m\n\u001b[0;32m     14\u001b[0m cep_info \u001b[38;5;241m=\u001b[39m driver\u001b[38;5;241m.\u001b[39mfind_elements(By\u001b[38;5;241m.\u001b[39mXPATH,\u001b[38;5;124m'\u001b[39m\u001b[38;5;124m//*[@id=\u001b[39m\u001b[38;5;124m\"\u001b[39m\u001b[38;5;124mresultado-DNEC\u001b[39m\u001b[38;5;124m\"\u001b[39m\u001b[38;5;124m]/tbody\u001b[39m\u001b[38;5;124m'\u001b[39m)\n\u001b[0;32m     15\u001b[0m \u001b[38;5;28;01mfor\u001b[39;00m cep \u001b[38;5;129;01min\u001b[39;00m cep_info:\n\u001b[1;32m---> 16\u001b[0m   logradouro \u001b[38;5;241m=\u001b[39m \u001b[43mcep\u001b[49m\u001b[38;5;241;43m.\u001b[39;49m\u001b[43mfind_element\u001b[49m\u001b[43m(\u001b[49m\u001b[43mBy\u001b[49m\u001b[38;5;241;43m.\u001b[39;49m\u001b[43mXPATH\u001b[49m\u001b[43m,\u001b[49m\u001b[38;5;124;43m'\u001b[39;49m\u001b[38;5;124;43m//*[@id=\u001b[39;49m\u001b[38;5;124;43m\"\u001b[39;49m\u001b[38;5;124;43mresultado-DNEC\u001b[39;49m\u001b[38;5;124;43m\"\u001b[39;49m\u001b[38;5;124;43m]/tbody/tr/td[1]\u001b[39;49m\u001b[38;5;124;43m'\u001b[39;49m\u001b[43m)\u001b[49m\u001b[38;5;241m.\u001b[39mtext\n\u001b[0;32m     17\u001b[0m   bairro \u001b[38;5;241m=\u001b[39mcep\u001b[38;5;241m.\u001b[39mfind_element(By\u001b[38;5;241m.\u001b[39mXPATH,\u001b[38;5;124m'\u001b[39m\u001b[38;5;124m//*[@id=\u001b[39m\u001b[38;5;124m\"\u001b[39m\u001b[38;5;124mresultado-DNEC\u001b[39m\u001b[38;5;124m\"\u001b[39m\u001b[38;5;124m]/tbody/tr/td[2]\u001b[39m\u001b[38;5;124m'\u001b[39m)\u001b[38;5;241m.\u001b[39mtext\n\u001b[0;32m     18\u001b[0m   municipio\u001b[38;5;241m=\u001b[39m cep\u001b[38;5;241m.\u001b[39mfind_element(By\u001b[38;5;241m.\u001b[39mXPATH,\u001b[38;5;124m'\u001b[39m\u001b[38;5;124m//*[@id=\u001b[39m\u001b[38;5;124m\"\u001b[39m\u001b[38;5;124mresultado-DNEC\u001b[39m\u001b[38;5;124m\"\u001b[39m\u001b[38;5;124m]/tbody/tr/td[3]\u001b[39m\u001b[38;5;124m'\u001b[39m)\u001b[38;5;241m.\u001b[39mtext\n",
      "File \u001b[1;32mc:\\Users\\leona\\AppData\\Local\\Programs\\Python\\Python312\\Lib\\site-packages\\selenium\\webdriver\\remote\\webelement.py:416\u001b[0m, in \u001b[0;36mWebElement.find_element\u001b[1;34m(self, by, value)\u001b[0m\n\u001b[0;32m    413\u001b[0m     by \u001b[38;5;241m=\u001b[39m By\u001b[38;5;241m.\u001b[39mCSS_SELECTOR\n\u001b[0;32m    414\u001b[0m     value \u001b[38;5;241m=\u001b[39m \u001b[38;5;124mf\u001b[39m\u001b[38;5;124m'\u001b[39m\u001b[38;5;124m[name=\u001b[39m\u001b[38;5;124m\"\u001b[39m\u001b[38;5;132;01m{\u001b[39;00mvalue\u001b[38;5;132;01m}\u001b[39;00m\u001b[38;5;124m\"\u001b[39m\u001b[38;5;124m]\u001b[39m\u001b[38;5;124m'\u001b[39m\n\u001b[1;32m--> 416\u001b[0m \u001b[38;5;28;01mreturn\u001b[39;00m \u001b[38;5;28;43mself\u001b[39;49m\u001b[38;5;241;43m.\u001b[39;49m\u001b[43m_execute\u001b[49m\u001b[43m(\u001b[49m\u001b[43mCommand\u001b[49m\u001b[38;5;241;43m.\u001b[39;49m\u001b[43mFIND_CHILD_ELEMENT\u001b[49m\u001b[43m,\u001b[49m\u001b[43m \u001b[49m\u001b[43m{\u001b[49m\u001b[38;5;124;43m\"\u001b[39;49m\u001b[38;5;124;43musing\u001b[39;49m\u001b[38;5;124;43m\"\u001b[39;49m\u001b[43m:\u001b[49m\u001b[43m \u001b[49m\u001b[43mby\u001b[49m\u001b[43m,\u001b[49m\u001b[43m \u001b[49m\u001b[38;5;124;43m\"\u001b[39;49m\u001b[38;5;124;43mvalue\u001b[39;49m\u001b[38;5;124;43m\"\u001b[39;49m\u001b[43m:\u001b[49m\u001b[43m \u001b[49m\u001b[43mvalue\u001b[49m\u001b[43m}\u001b[49m\u001b[43m)\u001b[49m[\u001b[38;5;124m\"\u001b[39m\u001b[38;5;124mvalue\u001b[39m\u001b[38;5;124m\"\u001b[39m]\n",
      "File \u001b[1;32mc:\\Users\\leona\\AppData\\Local\\Programs\\Python\\Python312\\Lib\\site-packages\\selenium\\webdriver\\remote\\webelement.py:394\u001b[0m, in \u001b[0;36mWebElement._execute\u001b[1;34m(self, command, params)\u001b[0m\n\u001b[0;32m    392\u001b[0m     params \u001b[38;5;241m=\u001b[39m {}\n\u001b[0;32m    393\u001b[0m params[\u001b[38;5;124m\"\u001b[39m\u001b[38;5;124mid\u001b[39m\u001b[38;5;124m\"\u001b[39m] \u001b[38;5;241m=\u001b[39m \u001b[38;5;28mself\u001b[39m\u001b[38;5;241m.\u001b[39m_id\n\u001b[1;32m--> 394\u001b[0m \u001b[38;5;28;01mreturn\u001b[39;00m \u001b[38;5;28;43mself\u001b[39;49m\u001b[38;5;241;43m.\u001b[39;49m\u001b[43m_parent\u001b[49m\u001b[38;5;241;43m.\u001b[39;49m\u001b[43mexecute\u001b[49m\u001b[43m(\u001b[49m\u001b[43mcommand\u001b[49m\u001b[43m,\u001b[49m\u001b[43m \u001b[49m\u001b[43mparams\u001b[49m\u001b[43m)\u001b[49m\n",
      "File \u001b[1;32mc:\\Users\\leona\\AppData\\Local\\Programs\\Python\\Python312\\Lib\\site-packages\\selenium\\webdriver\\remote\\webdriver.py:347\u001b[0m, in \u001b[0;36mWebDriver.execute\u001b[1;34m(self, driver_command, params)\u001b[0m\n\u001b[0;32m    345\u001b[0m response \u001b[38;5;241m=\u001b[39m \u001b[38;5;28mself\u001b[39m\u001b[38;5;241m.\u001b[39mcommand_executor\u001b[38;5;241m.\u001b[39mexecute(driver_command, params)\n\u001b[0;32m    346\u001b[0m \u001b[38;5;28;01mif\u001b[39;00m response:\n\u001b[1;32m--> 347\u001b[0m     \u001b[38;5;28;43mself\u001b[39;49m\u001b[38;5;241;43m.\u001b[39;49m\u001b[43merror_handler\u001b[49m\u001b[38;5;241;43m.\u001b[39;49m\u001b[43mcheck_response\u001b[49m\u001b[43m(\u001b[49m\u001b[43mresponse\u001b[49m\u001b[43m)\u001b[49m\n\u001b[0;32m    348\u001b[0m     response[\u001b[38;5;124m\"\u001b[39m\u001b[38;5;124mvalue\u001b[39m\u001b[38;5;124m\"\u001b[39m] \u001b[38;5;241m=\u001b[39m \u001b[38;5;28mself\u001b[39m\u001b[38;5;241m.\u001b[39m_unwrap_value(response\u001b[38;5;241m.\u001b[39mget(\u001b[38;5;124m\"\u001b[39m\u001b[38;5;124mvalue\u001b[39m\u001b[38;5;124m\"\u001b[39m, \u001b[38;5;28;01mNone\u001b[39;00m))\n\u001b[0;32m    349\u001b[0m     \u001b[38;5;28;01mreturn\u001b[39;00m response\n",
      "File \u001b[1;32mc:\\Users\\leona\\AppData\\Local\\Programs\\Python\\Python312\\Lib\\site-packages\\selenium\\webdriver\\remote\\errorhandler.py:229\u001b[0m, in \u001b[0;36mErrorHandler.check_response\u001b[1;34m(self, response)\u001b[0m\n\u001b[0;32m    227\u001b[0m         alert_text \u001b[38;5;241m=\u001b[39m value[\u001b[38;5;124m\"\u001b[39m\u001b[38;5;124malert\u001b[39m\u001b[38;5;124m\"\u001b[39m]\u001b[38;5;241m.\u001b[39mget(\u001b[38;5;124m\"\u001b[39m\u001b[38;5;124mtext\u001b[39m\u001b[38;5;124m\"\u001b[39m)\n\u001b[0;32m    228\u001b[0m     \u001b[38;5;28;01mraise\u001b[39;00m exception_class(message, screen, stacktrace, alert_text)  \u001b[38;5;66;03m# type: ignore[call-arg]  # mypy is not smart enough here\u001b[39;00m\n\u001b[1;32m--> 229\u001b[0m \u001b[38;5;28;01mraise\u001b[39;00m exception_class(message, screen, stacktrace)\n",
      "\u001b[1;31mNoSuchElementException\u001b[0m: Message: no such element: Unable to locate element: {\"method\":\"xpath\",\"selector\":\"//*[@id=\"resultado-DNEC\"]/tbody/tr/td[1]\"}\n  (Session info: MicrosoftEdge=120.0.2210.133); For documentation on this error, please visit: https://www.selenium.dev/documentation/webdriver/troubleshooting/errors#no-such-element-exception\nStacktrace:\n\tGetHandleVerifier [0x00007FF630C50332+58194]\n\tMicrosoft::Applications::Events::ILogConfiguration::operator* [0x00007FF630BDEC92+216482]\n\t(No symbol) [0x00007FF6309F9E1B]\n\t(No symbol) [0x00007FF630A49C6F]\n\t(No symbol) [0x00007FF630A49DA5]\n\t(No symbol) [0x00007FF630A3D43C]\n\t(No symbol) [0x00007FF630A6C11F]\n\t(No symbol) [0x00007FF630A3D3E1]\n\t(No symbol) [0x00007FF630A3D28D]\n\t(No symbol) [0x00007FF630A6C670]\n\t(No symbol) [0x00007FF630A3D3E1]\n\t(No symbol) [0x00007FF630A88A7E]\n\t(No symbol) [0x00007FF630A6BD43]\n\t(No symbol) [0x00007FF630A3C162]\n\t(No symbol) [0x00007FF630A3B5BD]\n\t(No symbol) [0x00007FF630A3C994]\n\tMicrosoft::Applications::Events::EventProperty::to_string [0x00007FF630E06CDA+1051354]\n\t(No symbol) [0x00007FF630ABF596]\n\tMicrosoft::Applications::Events::EventProperty::clear [0x00007FF630B56215+34245]\n\tMicrosoft::Applications::Events::EventProperty::clear [0x00007FF630B4E6BD+2669]\n\tMicrosoft::Applications::Events::EventProperty::to_string [0x00007FF630E059D3+1046483]\n\tMicrosoft::Applications::Events::ILogConfiguration::operator* [0x00007FF630BE8978+256648]\n\tMicrosoft::Applications::Events::ILogConfiguration::operator* [0x00007FF630BE4104+238100]\n\tMicrosoft::Applications::Events::ILogConfiguration::operator* [0x00007FF630BE4232+238402]\n\tMicrosoft::Applications::Events::ILogConfiguration::operator* [0x00007FF630BD8FD1+192737]\n\tBaseThreadInitThunk [0x00007FFCBCD7257D+29]\n\tRtlUserThreadStart [0x00007FFCBDC4AA58+40]\n"
     ]
    }
   ],
   "source": [
    "options = webdriver.EdgeOptions()\n",
    "driver = webdriver.Edge(options=options)\n",
    "test =19032555\n",
    "\n",
    "\n",
    "url ='https://buscacepinter.correios.com.br/app/endereco/index.php'\n",
    "\n",
    "\n",
    "driver.get(url)\n",
    "pg.sleep(2)\n",
    "cep_busca = driver.find_element(By.NAME,'endereco').send_keys(test)\n",
    "pg.press('return')\n",
    "pg.sleep(3)\n",
    "cep_info = driver.find_elements(By.XPATH,'//*[@id=\"resultado-DNEC\"]/tbody')\n",
    "for cep in cep_info:\n",
    "  logradouro = cep.find_element(By.XPATH,'//*[@id=\"resultado-DNEC\"]/tbody/tr/td[1]').text\n",
    "  bairro =cep.find_element(By.XPATH,'//*[@id=\"resultado-DNEC\"]/tbody/tr/td[2]').text\n",
    "  municipio= cep.find_element(By.XPATH,'//*[@id=\"resultado-DNEC\"]/tbody/tr/td[3]').text\n",
    "  rcep = cep.find_element(By.XPATH,'//*[@id=\"resultado-DNEC\"]/tbody/tr/td[4]').text\n",
    "\n",
    "print(f'{logradouro}\\n{bairro}\\n{municipio}\\n{rcep}')\n",
    "pg.sleep(2)\n",
    "new_search = driver.find_element(By.ID,'btn_nbusca').send_keys(Keys.ENTER)\n",
    "\n",
    "driver.close()\n",
    "\n"
   ]
  }
 ],
 "metadata": {
  "kernelspec": {
   "display_name": "Python 3",
   "language": "python",
   "name": "python3"
  },
  "language_info": {
   "codemirror_mode": {
    "name": "ipython",
    "version": 3
   },
   "file_extension": ".py",
   "mimetype": "text/x-python",
   "name": "python",
   "nbconvert_exporter": "python",
   "pygments_lexer": "ipython3",
   "version": "3.12.0"
  }
 },
 "nbformat": 4,
 "nbformat_minor": 2
}
